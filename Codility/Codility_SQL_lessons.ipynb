{
 "cells": [
  {
   "cell_type": "markdown",
   "metadata": {},
   "source": [
    "# Codility SQL Training\n",
    "## Elementary\n",
    "Given a table elements with the following structure:\n",
    "\n",
    "  create table elements (\n",
    "      v integer not null\n",
    "  );\n",
    "write an SQL query that returns the sum of the numbers in column v.\n",
    "\n",
    "For example, given:\n",
    "\n",
    "  |v|\n",
    "  |--|\n",
    "  |2|\n",
    "  |10|\n",
    "  |20|\n",
    "  |10|\n",
    "  \n",
    "your query should return 42."
   ]
  },
  {
   "cell_type": "code",
   "execution_count": null,
   "metadata": {},
   "outputs": [],
   "source": [
    "-- Implement your solution here\n",
    "SELECT SUM(v) FROM elements;\n"
   ]
  },
  {
   "cell_type": "markdown",
   "metadata": {},
   "source": [
    "## Easy\n",
    "Given a table events with the following structure:\n",
    "\n",
    "  create table events (\n",
    "      event_type integer not null,\n",
    "      value integer not null,\n",
    "      time timestamp not null,\n",
    "      unique(event_type, time)\n",
    "  );\n",
    "write an SQL query that, for each event_type that has been registered more than once, returns the difference between the latest (i.e. the most recent in terms of time) and the second latest value. The table should be ordered by event_type (in ascending order).\n",
    "\n",
    "For example, given the following data:\n",
    "\n",
    "   event_type | value      | time\n",
    "  ------------+------------+--------------------\n",
    "   2          | 5          | 2015-05-09 12:42:00\n",
    "   4          | -42        | 2015-05-09 13:19:57\n",
    "   2          | 2          | 2015-05-09 14:48:30\n",
    "   2          | 7          | 2015-05-09 12:54:39\n",
    "   3          | 16         | 2015-05-09 13:19:57\n",
    "   3          | 20         | 2015-05-09 15:01:09\n",
    "your query should return the following rowset:\n",
    "\n",
    "   event_type | value\n",
    "  ------------+-----------\n",
    "   2          | -5\n",
    "   3          | 4\n",
    "For the event_type 2, the latest value is 2 and the second latest value is 7, so the difference between them is −5.\n",
    "\n",
    "The names of the columns in the rowset don't matter, but their order does."
   ]
  },
  {
   "cell_type": "code",
   "execution_count": null,
   "metadata": {},
   "outputs": [],
   "source": [
    "select t1.event_type, t1.value - t1.prev_value as diff\n",
    "  from (\n",
    "     select t.event_type,\n",
    "            t.value,\n",
    "            lead(t.value) over (partition by t.event_type order by time desc) prev_value,\n",
    "            row_number() over (partition by t.event_type order by time desc) rn\n",
    "       from events t) as t1\n",
    "where rn=1\n",
    "  and prev_value is not null\n",
    "  ORDER BY\n",
    "  event_type;\n"
   ]
  },
  {
   "cell_type": "markdown",
   "metadata": {},
   "source": [
    "## difficult\n",
    "\n",
    "You are given two tables, teams and matches, with the following structures:\n",
    "\n",
    "  create table teams (\n",
    "      team_id integer not null,\n",
    "      team_name varchar(30) not null,\n",
    "      unique(team_id)\n",
    "  );\n",
    "\n",
    "  create table matches (\n",
    "      match_id integer not null,\n",
    "      host_team integer not null,\n",
    "      guest_team integer not null,\n",
    "      host_goals integer not null,\n",
    "      guest_goals integer not null,\n",
    "      unique(match_id)\n",
    "  );\n",
    "Each record in the table teams represents a single soccer team. Each record in the table matches represents a finished match between two teams. Teams (host_team, guest_team) are represented by their IDs in the teams table (team_id). No team plays a match against itself. You know the result of each match (that is, the number of goals scored by each team).\n",
    "\n",
    "You would like to compute the total number of points each team has scored after all the matches described in the table. The scoring rules are as follows:\n",
    "\n",
    "If a team wins a match (scores strictly more goals than the other team), it receives three points.\n",
    "If a team draws a match (scores exactly the same number of goals as the opponent), it receives one point.\n",
    "If a team loses a match (scores fewer goals than the opponent), it receives no points.\n",
    "Write an SQL query that returns a ranking of all teams (team_id) described in the table teams. For each team you should provide its name and the number of points it received after all described matches (num_points). The table should be ordered by num_points (in decreasing order). In case of a tie, order the rows by team_id (in increasing order).\n",
    "\n",
    "For example, for:\n",
    "\n",
    "  teams:\n",
    "\n",
    "   team_id | team_name\n",
    "  ---------+---------------\n",
    "   10      | Give\n",
    "   20      | Never\n",
    "   30      | You\n",
    "   40      | Up\n",
    "   50      | Gonna\n",
    "\n",
    "\n",
    "  matches:\n",
    "\n",
    "   match_id | host_team | guest_team | host_goals | guest_goals\n",
    "  ----------+-----------+------------+------------+-------------\n",
    "   1        | 30        | 20         | 1          | 0\n",
    "   2        | 10        | 20         | 1          | 2\n",
    "   3        | 20        | 50         | 2          | 2\n",
    "   4        | 10        | 30         | 1          | 0\n",
    "   5        | 30        | 50         | 0          | 1\n",
    "your query should return:\n",
    "\n",
    "   team_id | team_name | num_points\n",
    "  ---------+-----------+------------\n",
    "   20      | Never     | 4\n",
    "   50      | Gonna     | 4\n",
    "   10      | Give      | 3\n",
    "   30      | You       | 3\n",
    "   40      | Up        | 0"
   ]
  },
  {
   "cell_type": "code",
   "execution_count": null,
   "metadata": {},
   "outputs": [],
   "source": [
    "SELECT * FROM matches;\n",
    "SELECT * FROM teams;\n",
    "\n",
    "\n",
    "SELECT team_id, host_goals\n",
    "FROM teams\n",
    "JOIN matches\n",
    "ON team_id = host_team"
   ]
  },
  {
   "cell_type": "code",
   "execution_count": 37,
   "metadata": {},
   "outputs": [],
   "source": [
    "def solution(S, T):\n",
    "    \n",
    "   #first I check the EQUAL\n",
    "    if S == T:\n",
    "       return \"EQUAL\"\n",
    "    \n",
    "   # remove last letter\n",
    "    elif S[:-1] == T:\n",
    "        return f\"REMOVE {S[-1]}\"\n",
    "\n",
    "   #insert letter\n",
    "    elif S == T[1:]:\n",
    "        return f\"INSERT {T[0]}\"\n",
    "\n",
    "\n",
    "   # SWAP cd\n",
    "   # with the len of the word I can get the range \n",
    "    elif S != T:\n",
    "        for i in range(len(S) -1): #With the range I can get the index\n",
    "            if S[i] == T[i+1] and S[i+1] == T[i]:\n",
    "                return f\"SWAP {S[i]} {S[i+1]}\"\n",
    "\n",
    "   # imposible \n",
    "    else:\n",
    "        return \"IMPOSSIBLE\"\n",
    "\n",
    "    pass\n"
   ]
  },
  {
   "cell_type": "code",
   "execution_count": 41,
   "metadata": {},
   "outputs": [
    {
     "data": {
      "text/plain": [
       "'SWAP d e'"
      ]
     },
     "execution_count": 41,
     "metadata": {},
     "output_type": "execute_result"
    }
   ],
   "source": [
    "S= \"abcde\"\n",
    "T= \"abced\"\n",
    "\n",
    "solution(S,T)\n"
   ]
  }
 ],
 "metadata": {
  "kernelspec": {
   "display_name": "Python 3",
   "language": "python",
   "name": "python3"
  },
  "language_info": {
   "codemirror_mode": {
    "name": "ipython",
    "version": 3
   },
   "file_extension": ".py",
   "mimetype": "text/x-python",
   "name": "python",
   "nbconvert_exporter": "python",
   "pygments_lexer": "ipython3",
   "version": "3.10.11"
  }
 },
 "nbformat": 4,
 "nbformat_minor": 2
}
